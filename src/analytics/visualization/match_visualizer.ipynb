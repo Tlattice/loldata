{
 "cells": [
  {
   "cell_type": "markdown",
   "metadata": {},
   "source": [
    "# Selecting champion matchlist"
   ]
  },
  {
   "cell_type": "code",
   "execution_count": 5,
   "metadata": {},
   "outputs": [
    {
     "data": {
      "application/vnd.jupyter.widget-view+json": {
       "model_id": "3666a494d5584c6590afd147579d542b",
       "version_major": 2,
       "version_minor": 0
      },
      "text/plain": [
       "Button(description=u'aaa', style=ButtonStyle())"
      ]
     },
     "metadata": {},
     "output_type": "display_data"
    }
   ],
   "source": [
    "import json\n",
    "import urllib\n",
    "import ipywidgets as widgets\n",
    "from IPython.display import display\n",
    "\n",
    "#Constants\n",
    "# Get account-id\n",
    "KEY = \"RGAPI-7ff724d6-6604-4422-bce1-e38197fbd6d0\"\n",
    "ID_BY_NAME = \\\n",
    "\"https://{}.api.riotgames.com/lol/summoner/v4/summoners/by-name/{}?api_key={}\"\n",
    "# Get a match list\n",
    "MATCHLIST_BY_ACCOUNTID = \\\n",
    "\"https://{}.api.riotgames.com/lol/match/v4/matchlists/by-account/{}?api_key={}\"\n",
    "\n",
    "def get_account_id():\n",
    "    pass\n",
    "\n",
    "def get_match_list(region, name):\n",
    "    URL = ID_BY_NAME.format(region, name, KEY)\n",
    "    response = urllib.urlopen(URL)\n",
    "    info = json.loads(response.read())\n",
    "    accountID = info[u'accountId']\n",
    "    URL = MATCHLIST_BY_ACCOUNTID.format(region, accountID, KEY)\n",
    "    response = urllib.urlopen(URL)\n",
    "    matches = json.loads(response.read())\n",
    "    gameids = [x[u'gameId'] for x in matches[u'matches']]\n",
    "    return gameids\n",
    "\n",
    "\n",
    "summoner_button = widgets.Text(\n",
    "    value='Summoner name',\n",
    "    placeholder='Hola Soy Candy',\n",
    "    description='String:',\n",
    "    disabled=False\n",
    ")\n",
    "b = widgets.Button(description = \"aaa\")\n",
    "#display(summoner_button)\n",
    "display(b)\n",
    "\n",
    "#summoner_name = raw_input(\"Summoner name: \")\n",
    "#region_name = raw_input(\"Region name: \")\n",
    "\n",
    "#get_match_list(region_name, summoner_name)"
   ]
  },
  {
   "cell_type": "code",
   "execution_count": null,
   "metadata": {},
   "outputs": [],
   "source": []
  }
 ],
 "metadata": {
  "kernelspec": {
   "display_name": "Python 2",
   "language": "python",
   "name": "python2"
  },
  "language_info": {
   "codemirror_mode": {
    "name": "ipython",
    "version": 2
   },
   "file_extension": ".py",
   "mimetype": "text/x-python",
   "name": "python",
   "nbconvert_exporter": "python",
   "pygments_lexer": "ipython2",
   "version": "2.7.17"
  }
 },
 "nbformat": 4,
 "nbformat_minor": 2
}
